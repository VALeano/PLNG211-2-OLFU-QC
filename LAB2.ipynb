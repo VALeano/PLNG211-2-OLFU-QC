{
  "nbformat": 4,
  "nbformat_minor": 0,
  "metadata": {
    "colab": {
      "provenance": [],
      "authorship_tag": "ABX9TyNpS1ewYm2fBMzGhUWUEQil",
      "include_colab_link": true
    },
    "kernelspec": {
      "name": "python3",
      "display_name": "Python 3"
    },
    "language_info": {
      "name": "python"
    }
  },
  "cells": [
    {
      "cell_type": "markdown",
      "metadata": {
        "id": "view-in-github",
        "colab_type": "text"
      },
      "source": [
        "<a href=\"https://colab.research.google.com/github/VALeano/PLNG211-2-OLFU-QC/blob/main/LAB2.ipynb\" target=\"_parent\"><img src=\"https://colab.research.google.com/assets/colab-badge.svg\" alt=\"Open In Colab\"/></a>"
      ]
    },
    {
      "cell_type": "code",
      "execution_count": 1,
      "metadata": {
        "colab": {
          "base_uri": "https://localhost:8080/"
        },
        "id": "JpLv7PrAnjLy",
        "outputId": "bc64ed0e-f4a2-476b-994e-fc154923c388"
      },
      "outputs": [
        {
          "output_type": "stream",
          "name": "stdout",
          "text": [
            "Name: Victoriano A. Leano Jr.\n",
            "Student Number: 02210004835\n",
            "Age: 21\n",
            "School: OLFU\n",
            "Course: BSCS\n"
          ]
        }
      ],
      "source": [
        "class Student:\n",
        "\n",
        "  def __init__(student, Name, Student_No , Age, School, Course):\n",
        "    student.name = Name\n",
        "    student.Student_No = Student_No\n",
        "    student.Age = Age\n",
        "    student.School = School\n",
        "    student.Course = Course\n",
        "\n",
        "  def info(student):\n",
        "    print(\"Name:\",student.name)\n",
        "    print(\"Student Number:\",student.Student_No)\n",
        "    print(\"Age:\",student.Age)\n",
        "    print(\"School:\", student.School)\n",
        "    print(\"Course:\", student.Course)\n",
        "\n",
        "Myself = Student(\"Victoriano A. Leano Jr.\", \"02210004835\", 21, \"OLFU\", \"BSCS\")\n",
        "Myself.info()\n"
      ]
    }
  ]
}