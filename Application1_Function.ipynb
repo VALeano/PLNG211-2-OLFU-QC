{
  "nbformat": 4,
  "nbformat_minor": 0,
  "metadata": {
    "colab": {
      "provenance": [],
      "authorship_tag": "ABX9TyMShpHDbZg/OSXKmyWTjl/B",
      "include_colab_link": true
    },
    "kernelspec": {
      "name": "python3",
      "display_name": "Python 3"
    },
    "language_info": {
      "name": "python"
    }
  },
  "cells": [
    {
      "cell_type": "markdown",
      "metadata": {
        "id": "view-in-github",
        "colab_type": "text"
      },
      "source": [
        "<a href=\"https://colab.research.google.com/github/VALeano/PLNG211-2-OLFU-QC/blob/main/Application1_Function.ipynb\" target=\"_parent\"><img src=\"https://colab.research.google.com/assets/colab-badge.svg\" alt=\"Open In Colab\"/></a>"
      ]
    },
    {
      "cell_type": "code",
      "execution_count": 1,
      "metadata": {
        "id": "RdIHLeDA-vC2"
      },
      "outputs": [],
      "source": [
        "class Person:\n",
        "  pass"
      ]
    },
    {
      "cell_type": "code",
      "source": [
        "class Person:\n",
        "  def __init__(self,name,age,address):\n",
        "    self.name = name\n",
        "    self.age = age\n",
        "    self.address = address\n",
        "  def myFunction(self):\n",
        "      print(\"Hello! My name is\",self.name)\n",
        "      print(\"I am\",self.age)\n",
        "      print(\"I live in\",self.address)\n",
        "\n",
        "p1 = Person(\"Arron\",21,\"QC\") \n",
        "p1.myFunction()\n",
        "\n",
        "class Student(Person):\n",
        "  pass\n",
        "\n",
        "class Teacher(Person):\n",
        "  pass\n",
        "\n",
        "p2 = Student(\"Ana\", 26, \"Manila\")\n",
        "p2.myFunction()\n",
        "\n",
        "p3 = Teacher(\"Mam\", 30, \"Valenzuela City\")\n",
        "p3.myFunction()"
      ],
      "metadata": {
        "colab": {
          "base_uri": "https://localhost:8080/"
        },
        "id": "-nArPK3_-1h2",
        "outputId": "cc01c964-ff9d-4eaf-c0b3-2f22773e5e97"
      },
      "execution_count": 2,
      "outputs": [
        {
          "output_type": "stream",
          "name": "stdout",
          "text": [
            "Hello! My name is Arron\n",
            "I am 21\n",
            "I live in QC\n",
            "Hello! My name is Ana\n",
            "I am 26\n",
            "I live in Manila\n",
            "Hello! My name is Mam\n",
            "I am 30\n",
            "I live in Valenzuela City\n"
          ]
        }
      ]
    },
    {
      "cell_type": "code",
      "source": [
        "#Application 1 - Write a Python program that computes the area and perimeter of a Square\n",
        "#Use Square as class name\n",
        "#Use sides as attributes\n",
        "#Create methods Area() and Perimeter()\n"
      ],
      "metadata": {
        "id": "RmB0ml-Z-1w1"
      },
      "execution_count": null,
      "outputs": []
    },
    {
      "cell_type": "code",
      "source": [
        "class Square:\n",
        "  pass\n",
        "  def __init__(side,size,per):\n",
        "    side.size = pow(size, 2)\n",
        "    side.per = per*4\n",
        "  def Area(side):\n",
        "    print(\"The area of Square\",side.size)\n",
        "    \n",
        "  def Perimeter(side):\n",
        "    print(\"The Perimeter of Square\",side.per)\n",
        "\n",
        "p1 = Square(5,2)\n",
        "p1.Area()\n",
        "p1.Perimeter()"
      ],
      "metadata": {
        "colab": {
          "base_uri": "https://localhost:8080/"
        },
        "id": "4uwIbonk-18V",
        "outputId": "6a0f1802-ec45-441a-82ae-cf7ed05892b2"
      },
      "execution_count": 3,
      "outputs": [
        {
          "output_type": "stream",
          "name": "stdout",
          "text": [
            "The area of Square 25\n",
            "The Perimeter of Square 8\n"
          ]
        }
      ]
    }
  ]
}