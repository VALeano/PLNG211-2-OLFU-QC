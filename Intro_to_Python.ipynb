{
  "nbformat": 4,
  "nbformat_minor": 0,
  "metadata": {
    "colab": {
      "provenance": [],
      "collapsed_sections": [],
      "authorship_tag": "ABX9TyN/kNbDcpdvXqT0gl/V6Ts4",
      "include_colab_link": true
    },
    "kernelspec": {
      "name": "python3",
      "display_name": "Python 3"
    },
    "language_info": {
      "name": "python"
    }
  },
  "cells": [
    {
      "cell_type": "markdown",
      "metadata": {
        "id": "view-in-github",
        "colab_type": "text"
      },
      "source": [
        "<a href=\"https://colab.research.google.com/github/VALeano/PLNG211-2-OLFU-QC/blob/main/Intro_to_Python.ipynb\" target=\"_parent\"><img src=\"https://colab.research.google.com/assets/colab-badge.svg\" alt=\"Open In Colab\"/></a>"
      ]
    },
    {
      "cell_type": "markdown",
      "source": [
        "Comment"
      ],
      "metadata": {
        "id": "-9iv_jwZqjqF"
      }
    },
    {
      "cell_type": "code",
      "source": [
        "# This is a comment\n",
        "print(\"Hello, world\")\n"
      ],
      "metadata": {
        "colab": {
          "base_uri": "https://localhost:8080/"
        },
        "id": "JHyAC0Hvqk_t",
        "outputId": "5e79d7c2-17ee-4e24-9303-c080f8c90fef"
      },
      "execution_count": 1,
      "outputs": [
        {
          "output_type": "stream",
          "name": "stdout",
          "text": [
            "Hello, world\n"
          ]
        }
      ]
    },
    {
      "cell_type": "markdown",
      "source": [
        "Python Variable"
      ],
      "metadata": {
        "id": "T60zW-0YqvAg"
      }
    },
    {
      "cell_type": "code",
      "source": [
        "#Single variable\n",
        "a = float(10)\n",
        "b = -1\n",
        "\n",
        "#multiple variables\n",
        "a,b = float(8),-1\n",
        "\n",
        "\n",
        "#string type\n",
        "\n",
        "c = \"Ela\"\n",
        "\n"
      ],
      "metadata": {
        "id": "QDveTY7Pq2cc"
      },
      "execution_count": 5,
      "outputs": []
    },
    {
      "cell_type": "markdown",
      "source": [
        "Print (a)"
      ],
      "metadata": {
        "id": "aoZi_WDZrAYV"
      }
    },
    {
      "cell_type": "code",
      "source": [
        "print (a)\n",
        "\n",
        "#string type\n",
        "\n",
        "c = str(\"Ela\")\n",
        "c\n",
        "\n",
        "print(c)\n",
        "print(c)\n",
        "print(c)"
      ],
      "metadata": {
        "colab": {
          "base_uri": "https://localhost:8080/"
        },
        "id": "R_k5JKPKrCKQ",
        "outputId": "f67d09c4-9726-427e-c023-f3bfefd6f0ea"
      },
      "execution_count": 7,
      "outputs": [
        {
          "output_type": "stream",
          "name": "stdout",
          "text": [
            "8.0\n",
            "Ela\n",
            "Ela\n",
            "Ela\n"
          ]
        }
      ]
    },
    {
      "cell_type": "markdown",
      "source": [
        "Type () function"
      ],
      "metadata": {
        "id": "O5UZvoVHrF-n"
      }
    },
    {
      "cell_type": "code",
      "source": [
        "print(type(d))\n",
        "print(type(e))"
      ],
      "metadata": {
        "id": "SjJGvuMfrLlQ"
      },
      "execution_count": null,
      "outputs": []
    },
    {
      "cell_type": "markdown",
      "source": [
        "Single Qoute or Double Qoute"
      ],
      "metadata": {
        "id": "n70ucaBErPzf"
      }
    },
    {
      "cell_type": "code",
      "source": [
        "f = \"Jane\"\n",
        "print(f)\n",
        "g = 'Jane'\n",
        "print(g)"
      ],
      "metadata": {
        "colab": {
          "base_uri": "https://localhost:8080/"
        },
        "id": "8Ylam9UhrT2h",
        "outputId": "eb489a06-5961-4c44-f4f8-63c578bca8db"
      },
      "execution_count": 8,
      "outputs": [
        {
          "output_type": "stream",
          "name": "stdout",
          "text": [
            "Jane\n",
            "Jane\n"
          ]
        }
      ]
    },
    {
      "cell_type": "markdown",
      "source": [
        "Multiple Variables"
      ],
      "metadata": {
        "id": "w8RpEkgArZ3U"
      }
    },
    {
      "cell_type": "code",
      "source": [
        "x=y=z=\"python\"\n",
        "print(x)\n",
        "print(y)\n",
        "print(z)\n"
      ],
      "metadata": {
        "colab": {
          "base_uri": "https://localhost:8080/"
        },
        "id": "R7NhpYJurcTY",
        "outputId": "dda0e270-48de-4b89-8cc0-3c86ae90915c"
      },
      "execution_count": 9,
      "outputs": [
        {
          "output_type": "stream",
          "name": "stdout",
          "text": [
            "python\n",
            "python\n",
            "python\n"
          ]
        }
      ]
    },
    {
      "cell_type": "markdown",
      "source": [
        "Output Variables"
      ],
      "metadata": {
        "id": "7kt0oTlas9D5"
      }
    },
    {
      "cell_type": "code",
      "source": [
        "x = \"enjoying\"\n",
        "y = \"Python Programming is\"\n",
        "\n",
        "print(y+\" \" + x)\n"
      ],
      "metadata": {
        "colab": {
          "base_uri": "https://localhost:8080/"
        },
        "id": "9Trbm-KZs_Se",
        "outputId": "2d01fe04-bd80-47bb-d704-be8718b13033"
      },
      "execution_count": 10,
      "outputs": [
        {
          "output_type": "stream",
          "name": "stdout",
          "text": [
            "Python Programming is enjoying\n"
          ]
        }
      ]
    },
    {
      "cell_type": "markdown",
      "source": [
        "Arithmetic Operations\n",
        "\n"
      ],
      "metadata": {
        "id": "Nb_X9fbttFgu"
      }
    },
    {
      "cell_type": "code",
      "source": [
        "a = 3%2\n",
        "print(a)\n",
        "b = 3//2\n",
        "print(b)\n",
        "\n",
        "c = 7\n",
        "print(c**2)\n"
      ],
      "metadata": {
        "colab": {
          "base_uri": "https://localhost:8080/"
        },
        "id": "qW3faf3MtKgZ",
        "outputId": "8c1f2480-9e21-4e5a-e49d-90da002b5e58"
      },
      "execution_count": 11,
      "outputs": [
        {
          "output_type": "stream",
          "name": "stdout",
          "text": [
            "1\n",
            "1\n",
            "49\n"
          ]
        }
      ]
    },
    {
      "cell_type": "markdown",
      "source": [
        "Assignment Operators"
      ],
      "metadata": {
        "id": "BJdq-7-PtXj7"
      }
    },
    {
      "cell_type": "code",
      "source": [
        "c = 5\n",
        "c+=3    # c = c+3  , c = 5+3\n",
        "print(c)"
      ],
      "metadata": {
        "colab": {
          "base_uri": "https://localhost:8080/"
        },
        "id": "JH6oYpAxtZ6J",
        "outputId": "c1c7d9ff-2654-4a97-f90c-aec635237481"
      },
      "execution_count": 12,
      "outputs": [
        {
          "output_type": "stream",
          "name": "stdout",
          "text": [
            "8\n"
          ]
        }
      ]
    },
    {
      "cell_type": "markdown",
      "source": [
        "Comparison Operators"
      ],
      "metadata": {
        "id": "n_nBHxBAthDS"
      }
    },
    {
      "cell_type": "code",
      "source": [
        "i=5>2   #True\n",
        "h = 3>5 #False\n",
        "print(i)\n",
        "print(h)\n",
        "\n",
        "not(i or h)\n"
      ],
      "metadata": {
        "colab": {
          "base_uri": "https://localhost:8080/"
        },
        "id": "pE8ahvGwtky8",
        "outputId": "5bd76f74-93c1-4d63-ef30-73ee6dd3bf1d"
      },
      "execution_count": 13,
      "outputs": [
        {
          "output_type": "stream",
          "name": "stdout",
          "text": [
            "True\n",
            "False\n"
          ]
        },
        {
          "output_type": "execute_result",
          "data": {
            "text/plain": [
              "False"
            ]
          },
          "metadata": {},
          "execution_count": 13
        }
      ]
    },
    {
      "cell_type": "markdown",
      "source": [
        "Bitwise Operators"
      ],
      "metadata": {
        "id": "6VUe1pzpt0X0"
      }
    },
    {
      "cell_type": "code",
      "source": [
        "v = 10\n",
        "v<<2\n",
        "\n",
        "y = 2\n",
        "\n",
        "y>>1\n"
      ],
      "metadata": {
        "colab": {
          "base_uri": "https://localhost:8080/"
        },
        "id": "wW7Sp64-t9h8",
        "outputId": "56d073e8-68f7-4d79-c7a0-309124748983"
      },
      "execution_count": 14,
      "outputs": [
        {
          "output_type": "execute_result",
          "data": {
            "text/plain": [
              "1"
            ]
          },
          "metadata": {},
          "execution_count": 14
        }
      ]
    }
  ]
}